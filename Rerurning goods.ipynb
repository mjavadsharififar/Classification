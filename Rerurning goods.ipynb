{
 "cells": [
  {
   "cell_type": "markdown",
   "metadata": {},
   "source": [
    "# 1. Introduction"
   ]
  },
  {
   "cell_type": "markdown",
   "metadata": {},
   "source": [
    "<b> Name: </b> Mohammad Javad Sharififar\n",
    "\n",
    "<b> E-Mail: </b> Sharifi700@gmail.com\n",
    "\n",
    "<b> Discription: </b> Thsi code is a model which trained on <i> BADS_WS2021_known.csv </i> from <i> https://www.kaggle.com/c/bads2021/data </i> Here we want to predict if customors return goods or not</i>"
   ]
  },
  {
   "cell_type": "markdown",
   "metadata": {},
   "source": [
    "# 2. Set the Notebook"
   ]
  },
  {
   "cell_type": "code",
   "execution_count": 293,
   "metadata": {},
   "outputs": [],
   "source": [
    "#importing needed libraries\n",
    "import numpy as np\n",
    "import pandas as pd\n",
    "import matplotlib.pyplot as plt\n",
    "import seaborn as sns"
   ]
  },
  {
   "cell_type": "code",
   "execution_count": 294,
   "metadata": {},
   "outputs": [],
   "source": [
    "#import data\n",
    "data_or = pd.read_csv(\"https://raw.githubusercontent.com/TaTo0101/bads/master/kaggle/data/BADS_WS2021_known.csv\",\n",
    "                   index_col='order_item_id')"
   ]
  },
  {
   "cell_type": "code",
   "execution_count": 363,
   "metadata": {},
   "outputs": [],
   "source": [
    "data = data_or.copy() #we work on data to not lose original data in case of needings"
   ]
  },
  {
   "cell_type": "markdown",
   "metadata": {},
   "source": [
    "# 3. Exploratery Data Analysis"
   ]
  },
  {
   "cell_type": "code",
   "execution_count": 364,
   "metadata": {},
   "outputs": [
    {
     "data": {
      "text/html": [
       "<div>\n",
       "<style scoped>\n",
       "    .dataframe tbody tr th:only-of-type {\n",
       "        vertical-align: middle;\n",
       "    }\n",
       "\n",
       "    .dataframe tbody tr th {\n",
       "        vertical-align: top;\n",
       "    }\n",
       "\n",
       "    .dataframe thead th {\n",
       "        text-align: right;\n",
       "    }\n",
       "</style>\n",
       "<table border=\"1\" class=\"dataframe\">\n",
       "  <thead>\n",
       "    <tr style=\"text-align: right;\">\n",
       "      <th></th>\n",
       "      <th>order_date</th>\n",
       "      <th>delivery_date</th>\n",
       "      <th>item_id</th>\n",
       "      <th>item_size</th>\n",
       "      <th>item_color</th>\n",
       "      <th>brand_id</th>\n",
       "      <th>item_price</th>\n",
       "      <th>user_id</th>\n",
       "      <th>user_title</th>\n",
       "      <th>user_dob</th>\n",
       "      <th>user_state</th>\n",
       "      <th>user_reg_date</th>\n",
       "      <th>return</th>\n",
       "    </tr>\n",
       "    <tr>\n",
       "      <th>order_item_id</th>\n",
       "      <th></th>\n",
       "      <th></th>\n",
       "      <th></th>\n",
       "      <th></th>\n",
       "      <th></th>\n",
       "      <th></th>\n",
       "      <th></th>\n",
       "      <th></th>\n",
       "      <th></th>\n",
       "      <th></th>\n",
       "      <th></th>\n",
       "      <th></th>\n",
       "      <th></th>\n",
       "    </tr>\n",
       "  </thead>\n",
       "  <tbody>\n",
       "    <tr>\n",
       "      <th>1</th>\n",
       "      <td>2016-06-22</td>\n",
       "      <td>2016-06-27</td>\n",
       "      <td>643</td>\n",
       "      <td>38</td>\n",
       "      <td>navy</td>\n",
       "      <td>30</td>\n",
       "      <td>49.90</td>\n",
       "      <td>30822</td>\n",
       "      <td>Mrs</td>\n",
       "      <td>1969-04-17</td>\n",
       "      <td>Saxony</td>\n",
       "      <td>2016-06-23</td>\n",
       "      <td>0</td>\n",
       "    </tr>\n",
       "    <tr>\n",
       "      <th>2</th>\n",
       "      <td>2016-06-22</td>\n",
       "      <td>NaN</td>\n",
       "      <td>337</td>\n",
       "      <td>152</td>\n",
       "      <td>grey</td>\n",
       "      <td>30</td>\n",
       "      <td>19.95</td>\n",
       "      <td>30822</td>\n",
       "      <td>Mrs</td>\n",
       "      <td>1969-04-17</td>\n",
       "      <td>Saxony</td>\n",
       "      <td>2016-06-23</td>\n",
       "      <td>0</td>\n",
       "    </tr>\n",
       "    <tr>\n",
       "      <th>3</th>\n",
       "      <td>2016-06-22</td>\n",
       "      <td>2016-06-27</td>\n",
       "      <td>270</td>\n",
       "      <td>xxl</td>\n",
       "      <td>grey</td>\n",
       "      <td>49</td>\n",
       "      <td>79.90</td>\n",
       "      <td>30823</td>\n",
       "      <td>Mrs</td>\n",
       "      <td>1970-04-22</td>\n",
       "      <td>Baden-Wuerttemberg</td>\n",
       "      <td>2015-03-15</td>\n",
       "      <td>1</td>\n",
       "    </tr>\n",
       "    <tr>\n",
       "      <th>4</th>\n",
       "      <td>2016-06-22</td>\n",
       "      <td>2016-06-27</td>\n",
       "      <td>142</td>\n",
       "      <td>xxl</td>\n",
       "      <td>grey</td>\n",
       "      <td>49</td>\n",
       "      <td>99.90</td>\n",
       "      <td>30823</td>\n",
       "      <td>Mrs</td>\n",
       "      <td>1970-04-22</td>\n",
       "      <td>Baden-Wuerttemberg</td>\n",
       "      <td>2015-03-15</td>\n",
       "      <td>0</td>\n",
       "    </tr>\n",
       "    <tr>\n",
       "      <th>5</th>\n",
       "      <td>2016-06-22</td>\n",
       "      <td>2016-06-27</td>\n",
       "      <td>561</td>\n",
       "      <td>xxl</td>\n",
       "      <td>grey</td>\n",
       "      <td>3</td>\n",
       "      <td>14.90</td>\n",
       "      <td>30823</td>\n",
       "      <td>Mrs</td>\n",
       "      <td>1970-04-22</td>\n",
       "      <td>Baden-Wuerttemberg</td>\n",
       "      <td>2015-03-15</td>\n",
       "      <td>1</td>\n",
       "    </tr>\n",
       "    <tr>\n",
       "      <th>...</th>\n",
       "      <td>...</td>\n",
       "      <td>...</td>\n",
       "      <td>...</td>\n",
       "      <td>...</td>\n",
       "      <td>...</td>\n",
       "      <td>...</td>\n",
       "      <td>...</td>\n",
       "      <td>...</td>\n",
       "      <td>...</td>\n",
       "      <td>...</td>\n",
       "      <td>...</td>\n",
       "      <td>...</td>\n",
       "      <td>...</td>\n",
       "    </tr>\n",
       "    <tr>\n",
       "      <th>99996</th>\n",
       "      <td>2016-09-11</td>\n",
       "      <td>2016-09-12</td>\n",
       "      <td>156</td>\n",
       "      <td>20</td>\n",
       "      <td>blue</td>\n",
       "      <td>34</td>\n",
       "      <td>29.90</td>\n",
       "      <td>713</td>\n",
       "      <td>Mrs</td>\n",
       "      <td>1959-03-21</td>\n",
       "      <td>Rhineland-Palatinate</td>\n",
       "      <td>2015-02-17</td>\n",
       "      <td>0</td>\n",
       "    </tr>\n",
       "    <tr>\n",
       "      <th>99997</th>\n",
       "      <td>2016-09-11</td>\n",
       "      <td>2016-09-12</td>\n",
       "      <td>156</td>\n",
       "      <td>20</td>\n",
       "      <td>brown</td>\n",
       "      <td>34</td>\n",
       "      <td>29.90</td>\n",
       "      <td>713</td>\n",
       "      <td>Mrs</td>\n",
       "      <td>1959-03-21</td>\n",
       "      <td>Rhineland-Palatinate</td>\n",
       "      <td>2015-02-17</td>\n",
       "      <td>0</td>\n",
       "    </tr>\n",
       "    <tr>\n",
       "      <th>99998</th>\n",
       "      <td>2016-09-11</td>\n",
       "      <td>1994-12-31</td>\n",
       "      <td>1832</td>\n",
       "      <td>xxl</td>\n",
       "      <td>black</td>\n",
       "      <td>37</td>\n",
       "      <td>26.90</td>\n",
       "      <td>47794</td>\n",
       "      <td>Mr</td>\n",
       "      <td>1985-03-01</td>\n",
       "      <td>Hamburg</td>\n",
       "      <td>2016-09-10</td>\n",
       "      <td>0</td>\n",
       "    </tr>\n",
       "    <tr>\n",
       "      <th>99999</th>\n",
       "      <td>2016-09-11</td>\n",
       "      <td>1994-12-31</td>\n",
       "      <td>1832</td>\n",
       "      <td>xxl</td>\n",
       "      <td>black</td>\n",
       "      <td>37</td>\n",
       "      <td>26.90</td>\n",
       "      <td>47794</td>\n",
       "      <td>Mr</td>\n",
       "      <td>1985-03-01</td>\n",
       "      <td>Hamburg</td>\n",
       "      <td>2016-09-10</td>\n",
       "      <td>0</td>\n",
       "    </tr>\n",
       "    <tr>\n",
       "      <th>100000</th>\n",
       "      <td>2016-09-11</td>\n",
       "      <td>2016-10-08</td>\n",
       "      <td>1891</td>\n",
       "      <td>28</td>\n",
       "      <td>fuchsia</td>\n",
       "      <td>47</td>\n",
       "      <td>27.90</td>\n",
       "      <td>2622</td>\n",
       "      <td>Mrs</td>\n",
       "      <td>1973-10-17</td>\n",
       "      <td>Lower Saxony</td>\n",
       "      <td>2015-02-17</td>\n",
       "      <td>0</td>\n",
       "    </tr>\n",
       "  </tbody>\n",
       "</table>\n",
       "<p>100000 rows × 13 columns</p>\n",
       "</div>"
      ],
      "text/plain": [
       "               order_date delivery_date  item_id item_size item_color  \\\n",
       "order_item_id                                                           \n",
       "1              2016-06-22    2016-06-27      643        38       navy   \n",
       "2              2016-06-22           NaN      337       152       grey   \n",
       "3              2016-06-22    2016-06-27      270       xxl       grey   \n",
       "4              2016-06-22    2016-06-27      142       xxl       grey   \n",
       "5              2016-06-22    2016-06-27      561       xxl       grey   \n",
       "...                   ...           ...      ...       ...        ...   \n",
       "99996          2016-09-11    2016-09-12      156        20       blue   \n",
       "99997          2016-09-11    2016-09-12      156        20      brown   \n",
       "99998          2016-09-11    1994-12-31     1832       xxl      black   \n",
       "99999          2016-09-11    1994-12-31     1832       xxl      black   \n",
       "100000         2016-09-11    2016-10-08     1891        28    fuchsia   \n",
       "\n",
       "               brand_id  item_price  user_id user_title    user_dob  \\\n",
       "order_item_id                                                         \n",
       "1                    30       49.90    30822        Mrs  1969-04-17   \n",
       "2                    30       19.95    30822        Mrs  1969-04-17   \n",
       "3                    49       79.90    30823        Mrs  1970-04-22   \n",
       "4                    49       99.90    30823        Mrs  1970-04-22   \n",
       "5                     3       14.90    30823        Mrs  1970-04-22   \n",
       "...                 ...         ...      ...        ...         ...   \n",
       "99996                34       29.90      713        Mrs  1959-03-21   \n",
       "99997                34       29.90      713        Mrs  1959-03-21   \n",
       "99998                37       26.90    47794         Mr  1985-03-01   \n",
       "99999                37       26.90    47794         Mr  1985-03-01   \n",
       "100000               47       27.90     2622        Mrs  1973-10-17   \n",
       "\n",
       "                         user_state user_reg_date  return  \n",
       "order_item_id                                              \n",
       "1                            Saxony    2016-06-23       0  \n",
       "2                            Saxony    2016-06-23       0  \n",
       "3                Baden-Wuerttemberg    2015-03-15       1  \n",
       "4                Baden-Wuerttemberg    2015-03-15       0  \n",
       "5                Baden-Wuerttemberg    2015-03-15       1  \n",
       "...                             ...           ...     ...  \n",
       "99996          Rhineland-Palatinate    2015-02-17       0  \n",
       "99997          Rhineland-Palatinate    2015-02-17       0  \n",
       "99998                       Hamburg    2016-09-10       0  \n",
       "99999                       Hamburg    2016-09-10       0  \n",
       "100000                 Lower Saxony    2015-02-17       0  \n",
       "\n",
       "[100000 rows x 13 columns]"
      ]
     },
     "execution_count": 364,
     "metadata": {},
     "output_type": "execute_result"
    }
   ],
   "source": [
    "data"
   ]
  },
  {
   "cell_type": "markdown",
   "metadata": {},
   "source": [
    "Its obvious that we want o predict if the item is returend by customer or not and target variable is <i> return </i>"
   ]
  },
  {
   "cell_type": "code",
   "execution_count": 365,
   "metadata": {},
   "outputs": [
    {
     "data": {
      "text/html": [
       "<div>\n",
       "<style scoped>\n",
       "    .dataframe tbody tr th:only-of-type {\n",
       "        vertical-align: middle;\n",
       "    }\n",
       "\n",
       "    .dataframe tbody tr th {\n",
       "        vertical-align: top;\n",
       "    }\n",
       "\n",
       "    .dataframe thead th {\n",
       "        text-align: right;\n",
       "    }\n",
       "</style>\n",
       "<table border=\"1\" class=\"dataframe\">\n",
       "  <thead>\n",
       "    <tr style=\"text-align: right;\">\n",
       "      <th></th>\n",
       "      <th>item_id</th>\n",
       "      <th>brand_id</th>\n",
       "      <th>item_price</th>\n",
       "      <th>user_id</th>\n",
       "      <th>return</th>\n",
       "    </tr>\n",
       "  </thead>\n",
       "  <tbody>\n",
       "    <tr>\n",
       "      <th>count</th>\n",
       "      <td>100000.000000</td>\n",
       "      <td>100000.000000</td>\n",
       "      <td>100000.000000</td>\n",
       "      <td>100000.000000</td>\n",
       "      <td>100000.000000</td>\n",
       "    </tr>\n",
       "    <tr>\n",
       "      <th>mean</th>\n",
       "      <td>923.781820</td>\n",
       "      <td>30.149020</td>\n",
       "      <td>65.064695</td>\n",
       "      <td>27169.073960</td>\n",
       "      <td>0.458180</td>\n",
       "    </tr>\n",
       "    <tr>\n",
       "      <th>std</th>\n",
       "      <td>702.568822</td>\n",
       "      <td>28.180191</td>\n",
       "      <td>47.991546</td>\n",
       "      <td>14053.417669</td>\n",
       "      <td>0.498251</td>\n",
       "    </tr>\n",
       "    <tr>\n",
       "      <th>min</th>\n",
       "      <td>1.000000</td>\n",
       "      <td>1.000000</td>\n",
       "      <td>0.000000</td>\n",
       "      <td>9.000000</td>\n",
       "      <td>0.000000</td>\n",
       "    </tr>\n",
       "    <tr>\n",
       "      <th>25%</th>\n",
       "      <td>214.000000</td>\n",
       "      <td>5.000000</td>\n",
       "      <td>29.900000</td>\n",
       "      <td>14937.000000</td>\n",
       "      <td>0.000000</td>\n",
       "    </tr>\n",
       "    <tr>\n",
       "      <th>50%</th>\n",
       "      <td>812.000000</td>\n",
       "      <td>25.000000</td>\n",
       "      <td>49.900000</td>\n",
       "      <td>31189.000000</td>\n",
       "      <td>0.000000</td>\n",
       "    </tr>\n",
       "    <tr>\n",
       "      <th>75%</th>\n",
       "      <td>1581.000000</td>\n",
       "      <td>44.000000</td>\n",
       "      <td>79.900000</td>\n",
       "      <td>38917.250000</td>\n",
       "      <td>1.000000</td>\n",
       "    </tr>\n",
       "    <tr>\n",
       "      <th>max</th>\n",
       "      <td>2241.000000</td>\n",
       "      <td>138.000000</td>\n",
       "      <td>999.000000</td>\n",
       "      <td>48241.000000</td>\n",
       "      <td>1.000000</td>\n",
       "    </tr>\n",
       "  </tbody>\n",
       "</table>\n",
       "</div>"
      ],
      "text/plain": [
       "             item_id       brand_id     item_price        user_id  \\\n",
       "count  100000.000000  100000.000000  100000.000000  100000.000000   \n",
       "mean      923.781820      30.149020      65.064695   27169.073960   \n",
       "std       702.568822      28.180191      47.991546   14053.417669   \n",
       "min         1.000000       1.000000       0.000000       9.000000   \n",
       "25%       214.000000       5.000000      29.900000   14937.000000   \n",
       "50%       812.000000      25.000000      49.900000   31189.000000   \n",
       "75%      1581.000000      44.000000      79.900000   38917.250000   \n",
       "max      2241.000000     138.000000     999.000000   48241.000000   \n",
       "\n",
       "              return  \n",
       "count  100000.000000  \n",
       "mean        0.458180  \n",
       "std         0.498251  \n",
       "min         0.000000  \n",
       "25%         0.000000  \n",
       "50%         0.000000  \n",
       "75%         1.000000  \n",
       "max         1.000000  "
      ]
     },
     "execution_count": 365,
     "metadata": {},
     "output_type": "execute_result"
    }
   ],
   "source": [
    "data.describe()"
   ]
  },
  {
   "cell_type": "markdown",
   "metadata": {},
   "source": [
    "<b> Note:  </b> as wee see return mean is  0.45, so our model should have an accuracy more than 0.55 to perform better than a Dummy Classifier"
   ]
  },
  {
   "cell_type": "code",
   "execution_count": 366,
   "metadata": {},
   "outputs": [
    {
     "name": "stdout",
     "output_type": "stream",
     "text": [
      "<class 'pandas.core.frame.DataFrame'>\n",
      "Int64Index: 100000 entries, 1 to 100000\n",
      "Data columns (total 13 columns):\n",
      " #   Column         Non-Null Count   Dtype  \n",
      "---  ------         --------------   -----  \n",
      " 0   order_date     100000 non-null  object \n",
      " 1   delivery_date  90682 non-null   object \n",
      " 2   item_id        100000 non-null  int64  \n",
      " 3   item_size      100000 non-null  object \n",
      " 4   item_color     100000 non-null  object \n",
      " 5   brand_id       100000 non-null  int64  \n",
      " 6   item_price     100000 non-null  float64\n",
      " 7   user_id        100000 non-null  int64  \n",
      " 8   user_title     100000 non-null  object \n",
      " 9   user_dob       91275 non-null   object \n",
      " 10  user_state     100000 non-null  object \n",
      " 11  user_reg_date  100000 non-null  object \n",
      " 12  return         100000 non-null  int64  \n",
      "dtypes: float64(1), int64(4), object(8)\n",
      "memory usage: 10.7+ MB\n"
     ]
    }
   ],
   "source": [
    "data.info() #to see dtype and num of missing values in dataframe"
   ]
  },
  {
   "cell_type": "markdown",
   "metadata": {},
   "source": [
    "As shown above, we have 4 date data that have stored as object, we should change them to date to use them. \n",
    "Also return value should change to bool because it is a binary target variable\n",
    "\n",
    "We will handle other variables in Preprocessing section"
   ]
  },
  {
   "cell_type": "code",
   "execution_count": 367,
   "metadata": {},
   "outputs": [],
   "source": [
    "time_date = ['order_date','delivery_date','user_dob','user_reg_date']\n",
    "for i in time_date:\n",
    "    data[i] = pd.to_datetime(data[i],format = '%Y-%m-%d',errors = 'coerce') #coerce means NaN if converting was unseccessful\n",
    "    \n",
    "data[\"return\"] = data[\"return\"].astype(bool)"
   ]
  },
  {
   "cell_type": "code",
   "execution_count": 368,
   "metadata": {},
   "outputs": [
    {
     "name": "stdout",
     "output_type": "stream",
     "text": [
      "<class 'pandas.core.frame.DataFrame'>\n",
      "Int64Index: 100000 entries, 1 to 100000\n",
      "Data columns (total 13 columns):\n",
      " #   Column         Non-Null Count   Dtype         \n",
      "---  ------         --------------   -----         \n",
      " 0   order_date     100000 non-null  datetime64[ns]\n",
      " 1   delivery_date  90682 non-null   datetime64[ns]\n",
      " 2   item_id        100000 non-null  int64         \n",
      " 3   item_size      100000 non-null  object        \n",
      " 4   item_color     100000 non-null  object        \n",
      " 5   brand_id       100000 non-null  int64         \n",
      " 6   item_price     100000 non-null  float64       \n",
      " 7   user_id        100000 non-null  int64         \n",
      " 8   user_title     100000 non-null  object        \n",
      " 9   user_dob       91275 non-null   datetime64[ns]\n",
      " 10  user_state     100000 non-null  object        \n",
      " 11  user_reg_date  100000 non-null  datetime64[ns]\n",
      " 12  return         100000 non-null  bool          \n",
      "dtypes: bool(1), datetime64[ns](4), float64(1), int64(3), object(4)\n",
      "memory usage: 10.0+ MB\n"
     ]
    }
   ],
   "source": [
    "data.info()\n",
    "#Check if converting was seccessful"
   ]
  },
  {
   "cell_type": "markdown",
   "metadata": {},
   "source": [
    "Spite of Seccessful Conversion, we know that its impossible to use this type of feature in this problem. So we generate some features according to these dates and drop the dates."
   ]
  },
  {
   "cell_type": "code",
   "execution_count": 369,
   "metadata": {},
   "outputs": [],
   "source": [
    "data['delivery_range'] = (data['delivery_date']-data['order_date']).dt.days #how many days does it took to deliever the item?\n",
    "data['age'] = (data['order_date']-data['user_dob']).dt.days/365 #the age of user in the order time\n",
    "data['reg_to_order'] = (data['order_date']-data['user_reg_date']).dt.days  #how many days after registration  user ordered the item?\n",
    "\n",
    "data.drop(time_date,axis = 1,inplace = True) #droping date feature"
   ]
  },
  {
   "cell_type": "markdown",
   "metadata": {},
   "source": [
    "Now we have 4 numeric variable: delievery range, age, reg to order and item price. here we draw box plot of each grouped by return to find: \n",
    "\n",
    "* the range of each one,\n",
    "* if they have outlier or incorrect value, \n",
    "* if range of theyr value grouped by return significantly differ"
   ]
  },
  {
   "cell_type": "code",
   "execution_count": 370,
   "metadata": {},
   "outputs": [
    {
     "data": {
      "image/png": "[encoded data removed]",
      "text/plain": [
       "<Figure size 1008x432 with 1 Axes>"
      ]
     },
     "metadata": {},
     "output_type": "display_data"
    },
    {
     "data": {
      "image/png": "[encoded data removed]",
      "text/plain": [
       "<Figure size 1008x432 with 1 Axes>"
      ]
     },
     "metadata": {},
     "output_type": "display_data"
    },
    {
     "data": {
      "image/png": "[encoded data removed]",
      "text/plain": [
       "<Figure size 1008x432 with 1 Axes>"
      ]
     },
     "metadata": {},
     "output_type": "display_data"
    },
    {
     "data": {
      "image/png": "[encoded data removed]",
      "text/plain": [
       "<Figure size 1008x432 with 1 Axes>"
      ]
     },
     "metadata": {},
     "output_type": "display_data"
    }
   ],
   "source": [
    "num_data = ['delivery_range','age','reg_to_order','item_price'] \n",
    "\n",
    "#Defining a function to plotting\n",
    "def boxplot_return(v2):\n",
    "    plot_num = data.loc[:, [\"return\",v2]]\n",
    "    plt.figure(figsize= (14,6))\n",
    "    plot = sns.boxplot(data = plot_num, x = v2, y = \"return\", orient = \"h\")\n",
    "    plot.set(xlabel = i , ylabel = \"Return\", title = \"Boxplot of {} grouped by return\".format(i))\n",
    "    plt.show()\n",
    "    \n",
    "sns.set_style(\"darkgrid\")\n",
    "sns.set_palette(\"pastel\")\n",
    "\n",
    "for i in num_data:\n",
    "    boxplot_return(i)"
   ]
  },
  {
   "cell_type": "markdown",
   "metadata": {},
   "source": [
    "Here we see that in delievery range, age and reg to order we have incorrect data, like age older than 100 or negetaive dilievery range.\n",
    "Also we have outliers in all numeic variables except reg_to_ordr that should be handled. \n",
    "\n",
    "Now we go deep in categorical variables. First we get the num of unique values of each o see if we can perform One-Hot on them"
   ]
  },
  {
   "cell_type": "code",
   "execution_count": 371,
   "metadata": {},
   "outputs": [
    {
     "name": "stdout",
     "output_type": "stream",
     "text": [
      "{'item_id': 1943, 'item_size': 102, 'item_color': 77, 'brand_id': 135, 'user_id': 19205, 'user_title': 5, 'user_state': 16}\n"
     ]
    }
   ],
   "source": [
    "unique = {}\n",
    "cat_data = ['item_id','item_size','item_color','brand_id','user_id','user_title','user_state']\n",
    "for i in cat_data:\n",
    "    unique[i] = len(data[i].unique())\n",
    "print(unique)"
   ]
  },
  {
   "cell_type": "markdown",
   "metadata": {},
   "source": [
    "So its obvious that we can just perform One-Hot on user_state and user-title, because they have a few unique values. lets see the frequency ot their values and find if we have duplicate (like mr. and Mr) or incorrect value in theses varianbles"
   ]
  },
  {
   "cell_type": "code",
   "execution_count": 372,
   "metadata": {},
   "outputs": [
    {
     "data": {
      "image/png": "[encoded data removed]",
      "text/plain": [
       "<Figure size 1008x432 with 1 Axes>"
      ]
     },
     "metadata": {},
     "output_type": "display_data"
    }
   ],
   "source": [
    "a = data.groupby('user_title')['user_title'].count()\n",
    "plt.figure(figsize= (14,6))\n",
    "a.plot.bar(title = 'Num of user titles');"
   ]
  },
  {
   "cell_type": "markdown",
   "metadata": {},
   "source": [
    "We see there is no mistake in this vriable, and we can get that women ordered much more than men. Noe we see user_state:"
   ]
  },
  {
   "cell_type": "code",
   "execution_count": 373,
   "metadata": {},
   "outputs": [
    {
     "data": {
      "image/png": "[encoded data removed]",
      "text/plain": [
       "<Figure size 1008x432 with 1 Axes>"
      ]
     },
     "metadata": {},
     "output_type": "display_data"
    }
   ],
   "source": [
    "a = data.groupby('user_state')['user_state'].count()\n",
    "plt.figure(figsize= (14,6))\n",
    "a.plot.bar(title = 'Num of user states');"
   ]
  },
  {
   "cell_type": "markdown",
   "metadata": {},
   "source": [
    "Also there is no mistake in this variable. now we are going to have a look on other categorical variables. becase they have many unique values, we cant plot them here. so first we have instant look on their unique values if there is any duplication or incorrection, and then we see the most and the least frequent values of each variable to have attitude on these variables"
   ]
  },
  {
   "cell_type": "code",
   "execution_count": 374,
   "metadata": {},
   "outputs": [
    {
     "name": "stdout",
     "output_type": "stream",
     "text": [
      "item_id: ['643' '337' '270' ... '787' '2240' '2241'] \n",
      "\n",
      "item_size: ['38' '152' 'xxl' '41' '50' 'l' '48' 'xl' '42' '43' '9' '8+' 'unsized' 'm'\n",
      " 's' '40' '40+' '6+' '10' '8' '7' '44' '37' '39' '36' '4+' '21' '18' '7+'\n",
      " '20' '5+' '46' '6' '19' '4' '5' '35' '31' '38+' '29' '34' '3' '30' '45'\n",
      " '22' '24' '41+' '39+' '23' '140' '116' '26' '9+' '3632' '4032' '10+' '1'\n",
      " '36+' '11' '28' '11+' '12' '25' '37+' '128' '176' 'xs' '42+' '3432' '164'\n",
      " '52' '104' '33' '32' '14' 'xxxl' '27' '13' '56' '3+' '47' '54' '3332'\n",
      " '46+' '2' '80' '45+' '90' '3832' '3634' '44+' '49' '43+' '2+' '100'\n",
      " '3132' '58' '4034' '84' '105' '3834' '12+'] \n",
      "\n",
      "item_color: ['navy' 'grey' 'white' 'blue' 'black' 'mocca' 'brown' 'red' 'purple'\n",
      " 'stained' 'turquoise' 'magenta' 'green' 'olive' 'bordeaux' 'petrol'\n",
      " 'ecru' 'pink' 'denim' 'ocher' 'berry' 'champagner' 'beige' 'ash' 'nature'\n",
      " 'aubergine' 'aquamarine' 'khaki' 'curry' 'darkblue' 'pallid' 'orange'\n",
      " 'anthracite' 'azure' 'yellow' 'silver' 'brwon' 'blau' 'dark denim'\n",
      " 'mango' 'hibiscus' 'ancient' 'ivory' 'gold' 'mint' 'copper coin'\n",
      " 'baltic blue' 'amethyst' 'aviator' 'aqua' 'currant purple' 'kanel'\n",
      " 'cobalt blue' 'fuchsia' 'dark grey' 'terracotta' 'jade' 'ebony' 'avocado'\n",
      " 'almond' 'basalt' 'apricot' 'cognac' 'antique pink' 'creme' 'caramel'\n",
      " 'habana' 'curled' 'striped' 'coral' 'mahagoni' 'floral' 'dark navy'\n",
      " 'dark oliv' 'dark garnet' '?' 'opal'] \n",
      "\n",
      "brand_id: ['30' '49' '3' '1' '6' '46' '5' '2' '20' '33' '24' '19' '17' '27' '42'\n",
      " '36' '37' '39' '32' '44' '72' '56' '40' '11' '21' '12' '53' '14' '57'\n",
      " '25' '104' '28' '70' '7' '4' '34' '66' '18' '23' '16' '43' '9' '60' '45'\n",
      " '74' '26' '50' '38' '54' '58' '47' '75' '52' '78' '15' '55' '41' '8' '29'\n",
      " '31' '51' '10' '68' '48' '90' '22' '63' '61' '81' '69' '59' '91' '89'\n",
      " '84' '96' '64' '94' '103' '13' '82' '77' '35' '65' '76' '95' '73' '62'\n",
      " '87' '67' '71' '99' '98' '80' '85' '86' '108' '83' '105' '100' '92' '109'\n",
      " '88' '97' '110' '111' '102' '114' '113' '79' '106' '115' '116' '117'\n",
      " '112' '118' '119' '120' '121' '122' '123' '125' '126' '127' '128' '107'\n",
      " '129' '130' '131' '132' '133' '136' '135' '137' '134' '138'] \n",
      "\n",
      "user_id: ['30822' '30823' '30824' ... '48240' '48241' '12130'] \n",
      "\n"
     ]
    }
   ],
   "source": [
    "cat_data = ['item_id','item_size','item_color','brand_id','user_id']\n",
    "\n",
    "for i in cat_data:\n",
    "    data[i] = data[i].apply(lambda x: str(x).lower()) #lowering for prevenring duplication\n",
    "    \n",
    "for i in cat_data:\n",
    "    print('{}:'.format(i), data[i].unique(),'\\n')"
   ]
  },
  {
   "cell_type": "markdown",
   "metadata": {},
   "source": [
    "Here we see that there is no mistake in these variables. below we set a dataseries of 5 most and least frequensies in these variables"
   ]
  },
  {
   "cell_type": "code",
   "execution_count": 375,
   "metadata": {},
   "outputs": [
    {
     "name": "stdout",
     "output_type": "stream",
     "text": [
      "item_id\n",
      "2232       1\n",
      "365        1\n",
      "1194       1\n",
      "1454       1\n",
      "360        1\n",
      "        ... \n",
      "100      699\n",
      "1401     712\n",
      "22       815\n",
      "1532     993\n",
      "1415    1046\n",
      "Name: item_id, Length: 1943, dtype: int64 \n",
      "\n",
      "item_size\n",
      "49          1\n",
      "4034        1\n",
      "3634        1\n",
      "105         1\n",
      "84          1\n",
      "        ...  \n",
      "40       7693\n",
      "xxl      8966\n",
      "m       10190\n",
      "xl      10979\n",
      "l       12347\n",
      "Name: item_size, Length: 102, dtype: int64 \n",
      "\n",
      "item_color\n",
      "opal               2\n",
      "avocado            4\n",
      "creme              4\n",
      "amethyst           5\n",
      "copper coin        7\n",
      "               ...  \n",
      "red             7264\n",
      "grey            8708\n",
      "brown           8734\n",
      "blue           10625\n",
      "black          18640\n",
      "Name: item_color, Length: 77, dtype: int64 \n",
      "\n",
      "brand_id\n",
      "109        1\n",
      "135        1\n",
      "100        1\n",
      "115        1\n",
      "129        1\n",
      "       ...  \n",
      "11      4236\n",
      "37      4716\n",
      "5       5039\n",
      "1       8381\n",
      "3      11389\n",
      "Name: brand_id, Length: 135, dtype: int64 \n",
      "\n",
      "user_id\n",
      "36123      1\n",
      "38784      1\n",
      "23435      1\n",
      "23425      1\n",
      "23424      1\n",
      "        ... \n",
      "31185     87\n",
      "36824     88\n",
      "9366      97\n",
      "5006     107\n",
      "18912    175\n",
      "Name: user_id, Length: 19205, dtype: int64 \n",
      "\n"
     ]
    }
   ],
   "source": [
    "for i in cat_data:\n",
    "    a = data.groupby(i)[i].count().sort_values()\n",
    "    print(a,'\\n')"
   ]
  },
  {
   "cell_type": "markdown",
   "metadata": {},
   "source": [
    "So after EDA, we got an attitude about data and we go for preprocessing:"
   ]
  },
  {
   "cell_type": "markdown",
   "metadata": {},
   "source": [
    "# 3. Preprocessing"
   ]
  },
  {
   "cell_type": "markdown",
   "metadata": {},
   "source": [
    "## 3.1. Handling Incorrect Data"
   ]
  },
  {
   "cell_type": "markdown",
   "metadata": {},
   "source": [
    "In the previous section we saw we have in correct data in 3 variables, we know for delivery_range and reg_to_order the proble, was negetive number, but for age we have ages like under 10 or older 100,to find the good thresh for incorrect age, lets have a look on informal ages"
   ]
  },
  {
   "cell_type": "code",
   "execution_count": 376,
   "metadata": {},
   "outputs": [
    {
     "name": "stdout",
     "output_type": "stream",
     "text": [
      "[  4.94794521   5.06575342   5.25753425   5.43013699   5.43287671\n",
      "   5.45205479   5.54794521   5.57808219   5.92054795   6.2109589\n",
      "   6.23013699   6.30136986  10.51232877  17.4109589   18.36986301\n",
      "  19.87123288  80.24657534  80.65753425  80.79452055  81.11506849\n",
      "  81.27123288  81.61917808  81.66849315  81.6739726   81.84109589\n",
      "  81.84657534  81.85479452  81.8630137   82.          82.03835616\n",
      "  82.0630137   82.11506849  82.18630137  82.23835616  82.4739726\n",
      "  82.55342466  82.57260274  82.58630137  82.6109589   82.61369863\n",
      "  82.61917808  82.70410959  82.72328767  82.93972603  83.26849315\n",
      "  83.27671233  83.31780822  85.20273973  85.24657534  85.28767123\n",
      "  85.33150685  85.33424658  85.35616438  85.5260274   86.09863014\n",
      "  86.68493151  90.95890411  90.96438356  91.02191781  91.05753425\n",
      "  91.39452055  91.46027397  91.52328767  91.53150685  91.54520548\n",
      " 103.95342466 104.66849315 104.67123288 104.69041096 109.61369863\n",
      " 109.97534247 110.16164384 110.19178082 113.21643836 114.80273973\n",
      " 114.81643836 114.82191781 114.84383562 114.85753425 114.87671233\n",
      " 114.88493151 114.89041096 114.92054795 114.92876712 114.93424658\n",
      " 114.9369863  114.94794521 114.95342466 114.96712329 114.97808219\n",
      " 114.98082192 114.9890411  114.99178082 114.99452055 115.02465753\n",
      " 115.03835616 115.11780822 115.12054795 115.12328767 115.1369863\n",
      " 115.19726027 115.2        115.20821918 115.22191781 115.25479452\n",
      " 115.25753425 115.26849315 115.28219178 115.30684932 115.36712329\n",
      " 115.37534247 115.39452055 115.41369863 115.44383562 115.44657534\n",
      " 115.45479452 115.45753425 115.46849315 115.47671233 115.48219178\n",
      " 115.49589041 115.50410959 115.51506849 115.5260274  115.5369863\n",
      " 115.54246575 115.54520548 115.56164384 115.56712329 115.57808219\n",
      " 115.62465753 115.66575342 115.66849315 115.67123288 115.6739726\n",
      " 115.67671233 115.67945205 115.68219178 115.68493151 115.68767123\n",
      " 115.69041096 115.69315068 115.69589041 115.69863014 115.70136986\n",
      " 115.70958904 115.71232877 115.71506849 115.71780822 115.72054795\n",
      " 115.72328767 115.7260274  115.72876712 115.73150685 115.73972603\n",
      " 115.74520548 115.74794521 115.75068493 115.75342466 115.75616438\n",
      " 115.75890411 115.76164384 115.76438356 115.76712329 115.77260274\n",
      " 115.77534247 115.77808219 115.78082192 115.78356164 115.78630137\n",
      " 115.7890411  115.79178082 115.79452055 115.79726027 115.8\n",
      " 115.80273973 115.80547945 115.80821918 115.8109589  115.81369863\n",
      " 115.81643836 115.81917808 115.82191781 115.82465753 115.82739726\n",
      " 115.83013699 115.83287671 115.83561644 115.83835616 115.84109589\n",
      " 115.84383562 115.84657534 115.84931507 115.85205479 115.85479452\n",
      " 115.85753425 115.86027397 115.8630137  115.86575342 115.86849315\n",
      " 115.87123288 115.8739726  115.87671233 115.87945205 115.88219178\n",
      " 115.88493151]\n"
     ]
    }
   ],
   "source": [
    "print(np.sort(data.age[np.logical_or(data['age']>80,data['age']<20)].unique()))"
   ]
  },
  {
   "cell_type": "markdown",
   "metadata": {},
   "source": [
    "upthere we see we have many ages older than 100 and a few younger than 20, i guess for young ages, 17 is a good thresh and for old ages 90 is a good thresh, so here we conver these ages and other incorrect variables to NaN"
   ]
  },
  {
   "cell_type": "code",
   "execution_count": 377,
   "metadata": {},
   "outputs": [],
   "source": [
    "data['delivery_range'] = np.where(data['delivery_range']<0,np.nan,data['delivery_range'])\n",
    "data['age'] = np.where(np.logical_or(data['age']>90,data['age']<17) ,np.nan,data['age']) #NaN for age>90 or age<17\n",
    "data['reg_to_order'] = np.where(data['reg_to_order']<0,np.nan,data['reg_to_order'])"
   ]
  },
  {
   "cell_type": "markdown",
   "metadata": {},
   "source": [
    "## 3.2. Imputing Missing Values"
   ]
  },
  {
   "cell_type": "markdown",
   "metadata": {},
   "source": [
    "Lets have a look to see how many NaN we have"
   ]
  },
  {
   "cell_type": "code",
   "execution_count": 380,
   "metadata": {},
   "outputs": [
    {
     "name": "stdout",
     "output_type": "stream",
     "text": [
      "<class 'pandas.core.frame.DataFrame'>\n",
      "Int64Index: 100000 entries, 1 to 100000\n",
      "Data columns (total 12 columns):\n",
      " #   Column          Non-Null Count   Dtype  \n",
      "---  ------          --------------   -----  \n",
      " 0   item_id         100000 non-null  object \n",
      " 1   item_size       100000 non-null  object \n",
      " 2   item_color      100000 non-null  object \n",
      " 3   brand_id        100000 non-null  object \n",
      " 4   item_price      100000 non-null  float64\n",
      " 5   user_id         100000 non-null  object \n",
      " 6   user_title      100000 non-null  object \n",
      " 7   user_state      100000 non-null  object \n",
      " 8   return          100000 non-null  bool   \n",
      " 9   delivery_range  100000 non-null  float64\n",
      " 10  age             100000 non-null  float64\n",
      " 11  reg_to_order    100000 non-null  float64\n",
      "dtypes: bool(1), float64(4), object(7)\n",
      "memory usage: 11.8+ MB\n"
     ]
    }
   ],
   "source": [
    "data.info()"
   ]
  },
  {
   "cell_type": "markdown",
   "metadata": {},
   "source": [
    "We can see in the data.info() that if i want to remove all rows with null value, i will lose at least 20 percent of my data set.\n",
    "so here we replace NaN with the mean of feature."
   ]
  },
  {
   "cell_type": "code",
   "execution_count": 379,
   "metadata": {},
   "outputs": [],
   "source": [
    "data.delivery_range = data.delivery_range.fillna(data.delivery_range.mean())\n",
    "data.age = data.age.fillna(data.age.mean())\n",
    "data.reg_to_order = data.reg_to_order.fillna(data.reg_to_order.mean())"
   ]
  },
  {
   "cell_type": "markdown",
   "metadata": {},
   "source": [
    "## 3.3. Imputing Outliers"
   ]
  },
  {
   "cell_type": "markdown",
   "metadata": {},
   "source": [
    "We should impute outliers of integers, and replace them with the mean of variable:\n",
    "\n",
    "Here, Outlier means a value that is out of range (Q1-1.5IQ,Q3+1.5IQ)"
   ]
  },
  {
   "cell_type": "code",
   "execution_count": 381,
   "metadata": {},
   "outputs": [],
   "source": [
    "for i in int_data:\n",
    "    Q1 = data[i].quantile(0.25)\n",
    "    Q3 = data[i].quantile(0.75)\n",
    "    IQ = Q3-Q1\n",
    "    data[i] = np.where(np.logical_or(data[i]>(Q3 + 1.5*IQ) ,data[i]< (Q1 - 1.5*IQ)) ,data[i].mean(), data[i])"
   ]
  },
  {
   "cell_type": "markdown",
   "metadata": {},
   "source": [
    "check if we outliers are removed:"
   ]
  },
  {
   "cell_type": "code",
   "execution_count": 390,
   "metadata": {},
   "outputs": [
    {
     "data": {
      "image/png": "[encoded data removed]",
      "text/plain": [
       "<Figure size 1008x432 with 1 Axes>"
      ]
     },
     "metadata": {},
     "output_type": "display_data"
    },
    {
     "data": {
      "image/png": "[encoded data removed]",
      "text/plain": [
       "<Figure size 1008x432 with 1 Axes>"
      ]
     },
     "metadata": {},
     "output_type": "display_data"
    },
    {
     "data": {
      "image/png": "[encoded data removed]",
      "text/plain": [
       "<Figure size 1008x432 with 1 Axes>"
      ]
     },
     "metadata": {},
     "output_type": "display_data"
    },
    {
     "data": {
      "image/png": "[encoded data removed]",
      "text/plain": [
       "<Figure size 1008x432 with 1 Axes>"
      ]
     },
     "metadata": {},
     "output_type": "display_data"
    }
   ],
   "source": [
    "for i in num_data:\n",
    "    boxplot_return(i)"
   ]
  },
  {
   "cell_type": "markdown",
   "metadata": {},
   "source": [
    "Outliers seccessfuly removed! (In comparison with above charts)"
   ]
  },
  {
   "cell_type": "markdown",
   "metadata": {},
   "source": [
    "## 3.4. Rempving Duplicate Values"
   ]
  },
  {
   "cell_type": "markdown",
   "metadata": {},
   "source": [
    "Duplicate Values do not have any extra information, but they occupay systom processing, so they have to get removed"
   ]
  },
  {
   "cell_type": "code",
   "execution_count": 391,
   "metadata": {},
   "outputs": [],
   "source": [
    "data.drop_duplicates(inplace = True)"
   ]
  },
  {
   "cell_type": "code",
   "execution_count": 392,
   "metadata": {},
   "outputs": [
    {
     "name": "stdout",
     "output_type": "stream",
     "text": [
      "<class 'pandas.core.frame.DataFrame'>\n",
      "Int64Index: 98953 entries, 1 to 100000\n",
      "Data columns (total 12 columns):\n",
      " #   Column          Non-Null Count  Dtype  \n",
      "---  ------          --------------  -----  \n",
      " 0   item_id         98953 non-null  object \n",
      " 1   item_size       98953 non-null  object \n",
      " 2   item_color      98953 non-null  object \n",
      " 3   brand_id        98953 non-null  object \n",
      " 4   item_price      98953 non-null  float64\n",
      " 5   user_id         98953 non-null  object \n",
      " 6   user_title      98953 non-null  object \n",
      " 7   user_state      98953 non-null  object \n",
      " 8   return          98953 non-null  bool   \n",
      " 9   delivery_range  98953 non-null  float64\n",
      " 10  age             98953 non-null  float64\n",
      " 11  reg_to_order    98953 non-null  float64\n",
      "dtypes: bool(1), float64(4), object(7)\n",
      "memory usage: 9.2+ MB\n"
     ]
    }
   ],
   "source": [
    "data.info()"
   ]
  },
  {
   "cell_type": "markdown",
   "metadata": {},
   "source": [
    "## 3.5. Handling Categorical Data "
   ]
  },
  {
   "cell_type": "markdown",
   "metadata": {},
   "source": [
    "We perform One-Hot for categorical features with small number of unique values, inclouding <i> 'user_state' </i> and <i> 'user_title' </i>"
   ]
  },
  {
   "cell_type": "code",
   "execution_count": 393,
   "metadata": {},
   "outputs": [
    {
     "data": {
      "text/html": [
       "<div>\n",
       "<style scoped>\n",
       "    .dataframe tbody tr th:only-of-type {\n",
       "        vertical-align: middle;\n",
       "    }\n",
       "\n",
       "    .dataframe tbody tr th {\n",
       "        vertical-align: top;\n",
       "    }\n",
       "\n",
       "    .dataframe thead th {\n",
       "        text-align: right;\n",
       "    }\n",
       "</style>\n",
       "<table border=\"1\" class=\"dataframe\">\n",
       "  <thead>\n",
       "    <tr style=\"text-align: right;\">\n",
       "      <th></th>\n",
       "      <th>user_state_Baden-Wuerttemberg</th>\n",
       "      <th>user_state_Bavaria</th>\n",
       "      <th>user_state_Berlin</th>\n",
       "      <th>user_state_Brandenburg</th>\n",
       "      <th>user_state_Bremen</th>\n",
       "      <th>user_state_Hamburg</th>\n",
       "      <th>user_state_Hesse</th>\n",
       "      <th>user_state_Lower Saxony</th>\n",
       "      <th>user_state_Mecklenburg-Western Pomerania</th>\n",
       "      <th>user_state_North Rhine-Westphalia</th>\n",
       "      <th>...</th>\n",
       "      <th>item_id</th>\n",
       "      <th>item_size</th>\n",
       "      <th>item_color</th>\n",
       "      <th>brand_id</th>\n",
       "      <th>item_price</th>\n",
       "      <th>user_id</th>\n",
       "      <th>return</th>\n",
       "      <th>delivery_range</th>\n",
       "      <th>age</th>\n",
       "      <th>reg_to_order</th>\n",
       "    </tr>\n",
       "    <tr>\n",
       "      <th>order_item_id</th>\n",
       "      <th></th>\n",
       "      <th></th>\n",
       "      <th></th>\n",
       "      <th></th>\n",
       "      <th></th>\n",
       "      <th></th>\n",
       "      <th></th>\n",
       "      <th></th>\n",
       "      <th></th>\n",
       "      <th></th>\n",
       "      <th></th>\n",
       "      <th></th>\n",
       "      <th></th>\n",
       "      <th></th>\n",
       "      <th></th>\n",
       "      <th></th>\n",
       "      <th></th>\n",
       "      <th></th>\n",
       "      <th></th>\n",
       "      <th></th>\n",
       "      <th></th>\n",
       "    </tr>\n",
       "  </thead>\n",
       "  <tbody>\n",
       "    <tr>\n",
       "      <th>1</th>\n",
       "      <td>0</td>\n",
       "      <td>0</td>\n",
       "      <td>0</td>\n",
       "      <td>0</td>\n",
       "      <td>0</td>\n",
       "      <td>0</td>\n",
       "      <td>0</td>\n",
       "      <td>0</td>\n",
       "      <td>0</td>\n",
       "      <td>0</td>\n",
       "      <td>...</td>\n",
       "      <td>643</td>\n",
       "      <td>38</td>\n",
       "      <td>navy</td>\n",
       "      <td>30</td>\n",
       "      <td>49.900000</td>\n",
       "      <td>30822</td>\n",
       "      <td>False</td>\n",
       "      <td>5.000000</td>\n",
       "      <td>47.213699</td>\n",
       "      <td>343.208941</td>\n",
       "    </tr>\n",
       "    <tr>\n",
       "      <th>2</th>\n",
       "      <td>0</td>\n",
       "      <td>0</td>\n",
       "      <td>0</td>\n",
       "      <td>0</td>\n",
       "      <td>0</td>\n",
       "      <td>0</td>\n",
       "      <td>0</td>\n",
       "      <td>0</td>\n",
       "      <td>0</td>\n",
       "      <td>0</td>\n",
       "      <td>...</td>\n",
       "      <td>337</td>\n",
       "      <td>152</td>\n",
       "      <td>grey</td>\n",
       "      <td>30</td>\n",
       "      <td>19.950000</td>\n",
       "      <td>30822</td>\n",
       "      <td>False</td>\n",
       "      <td>7.401685</td>\n",
       "      <td>47.213699</td>\n",
       "      <td>343.208941</td>\n",
       "    </tr>\n",
       "    <tr>\n",
       "      <th>3</th>\n",
       "      <td>1</td>\n",
       "      <td>0</td>\n",
       "      <td>0</td>\n",
       "      <td>0</td>\n",
       "      <td>0</td>\n",
       "      <td>0</td>\n",
       "      <td>0</td>\n",
       "      <td>0</td>\n",
       "      <td>0</td>\n",
       "      <td>0</td>\n",
       "      <td>...</td>\n",
       "      <td>270</td>\n",
       "      <td>xxl</td>\n",
       "      <td>grey</td>\n",
       "      <td>49</td>\n",
       "      <td>79.900000</td>\n",
       "      <td>30823</td>\n",
       "      <td>True</td>\n",
       "      <td>5.000000</td>\n",
       "      <td>46.200000</td>\n",
       "      <td>465.000000</td>\n",
       "    </tr>\n",
       "    <tr>\n",
       "      <th>4</th>\n",
       "      <td>1</td>\n",
       "      <td>0</td>\n",
       "      <td>0</td>\n",
       "      <td>0</td>\n",
       "      <td>0</td>\n",
       "      <td>0</td>\n",
       "      <td>0</td>\n",
       "      <td>0</td>\n",
       "      <td>0</td>\n",
       "      <td>0</td>\n",
       "      <td>...</td>\n",
       "      <td>142</td>\n",
       "      <td>xxl</td>\n",
       "      <td>grey</td>\n",
       "      <td>49</td>\n",
       "      <td>99.900000</td>\n",
       "      <td>30823</td>\n",
       "      <td>False</td>\n",
       "      <td>5.000000</td>\n",
       "      <td>46.200000</td>\n",
       "      <td>465.000000</td>\n",
       "    </tr>\n",
       "    <tr>\n",
       "      <th>5</th>\n",
       "      <td>1</td>\n",
       "      <td>0</td>\n",
       "      <td>0</td>\n",
       "      <td>0</td>\n",
       "      <td>0</td>\n",
       "      <td>0</td>\n",
       "      <td>0</td>\n",
       "      <td>0</td>\n",
       "      <td>0</td>\n",
       "      <td>0</td>\n",
       "      <td>...</td>\n",
       "      <td>561</td>\n",
       "      <td>xxl</td>\n",
       "      <td>grey</td>\n",
       "      <td>3</td>\n",
       "      <td>14.900000</td>\n",
       "      <td>30823</td>\n",
       "      <td>True</td>\n",
       "      <td>5.000000</td>\n",
       "      <td>46.200000</td>\n",
       "      <td>465.000000</td>\n",
       "    </tr>\n",
       "    <tr>\n",
       "      <th>...</th>\n",
       "      <td>...</td>\n",
       "      <td>...</td>\n",
       "      <td>...</td>\n",
       "      <td>...</td>\n",
       "      <td>...</td>\n",
       "      <td>...</td>\n",
       "      <td>...</td>\n",
       "      <td>...</td>\n",
       "      <td>...</td>\n",
       "      <td>...</td>\n",
       "      <td>...</td>\n",
       "      <td>...</td>\n",
       "      <td>...</td>\n",
       "      <td>...</td>\n",
       "      <td>...</td>\n",
       "      <td>...</td>\n",
       "      <td>...</td>\n",
       "      <td>...</td>\n",
       "      <td>...</td>\n",
       "      <td>...</td>\n",
       "      <td>...</td>\n",
       "    </tr>\n",
       "    <tr>\n",
       "      <th>99995</th>\n",
       "      <td>1</td>\n",
       "      <td>0</td>\n",
       "      <td>0</td>\n",
       "      <td>0</td>\n",
       "      <td>0</td>\n",
       "      <td>0</td>\n",
       "      <td>0</td>\n",
       "      <td>0</td>\n",
       "      <td>0</td>\n",
       "      <td>0</td>\n",
       "      <td>...</td>\n",
       "      <td>1600</td>\n",
       "      <td>xl</td>\n",
       "      <td>green</td>\n",
       "      <td>75</td>\n",
       "      <td>65.064695</td>\n",
       "      <td>9580</td>\n",
       "      <td>False</td>\n",
       "      <td>2.000000</td>\n",
       "      <td>58.424658</td>\n",
       "      <td>572.000000</td>\n",
       "    </tr>\n",
       "    <tr>\n",
       "      <th>99996</th>\n",
       "      <td>0</td>\n",
       "      <td>0</td>\n",
       "      <td>0</td>\n",
       "      <td>0</td>\n",
       "      <td>0</td>\n",
       "      <td>0</td>\n",
       "      <td>0</td>\n",
       "      <td>0</td>\n",
       "      <td>0</td>\n",
       "      <td>0</td>\n",
       "      <td>...</td>\n",
       "      <td>156</td>\n",
       "      <td>20</td>\n",
       "      <td>blue</td>\n",
       "      <td>34</td>\n",
       "      <td>29.900000</td>\n",
       "      <td>713</td>\n",
       "      <td>False</td>\n",
       "      <td>1.000000</td>\n",
       "      <td>57.517808</td>\n",
       "      <td>572.000000</td>\n",
       "    </tr>\n",
       "    <tr>\n",
       "      <th>99997</th>\n",
       "      <td>0</td>\n",
       "      <td>0</td>\n",
       "      <td>0</td>\n",
       "      <td>0</td>\n",
       "      <td>0</td>\n",
       "      <td>0</td>\n",
       "      <td>0</td>\n",
       "      <td>0</td>\n",
       "      <td>0</td>\n",
       "      <td>0</td>\n",
       "      <td>...</td>\n",
       "      <td>156</td>\n",
       "      <td>20</td>\n",
       "      <td>brown</td>\n",
       "      <td>34</td>\n",
       "      <td>29.900000</td>\n",
       "      <td>713</td>\n",
       "      <td>False</td>\n",
       "      <td>1.000000</td>\n",
       "      <td>57.517808</td>\n",
       "      <td>572.000000</td>\n",
       "    </tr>\n",
       "    <tr>\n",
       "      <th>99998</th>\n",
       "      <td>0</td>\n",
       "      <td>0</td>\n",
       "      <td>0</td>\n",
       "      <td>0</td>\n",
       "      <td>0</td>\n",
       "      <td>1</td>\n",
       "      <td>0</td>\n",
       "      <td>0</td>\n",
       "      <td>0</td>\n",
       "      <td>0</td>\n",
       "      <td>...</td>\n",
       "      <td>1832</td>\n",
       "      <td>xxl</td>\n",
       "      <td>black</td>\n",
       "      <td>37</td>\n",
       "      <td>26.900000</td>\n",
       "      <td>47794</td>\n",
       "      <td>False</td>\n",
       "      <td>7.401685</td>\n",
       "      <td>51.497015</td>\n",
       "      <td>1.000000</td>\n",
       "    </tr>\n",
       "    <tr>\n",
       "      <th>100000</th>\n",
       "      <td>0</td>\n",
       "      <td>0</td>\n",
       "      <td>0</td>\n",
       "      <td>0</td>\n",
       "      <td>0</td>\n",
       "      <td>0</td>\n",
       "      <td>0</td>\n",
       "      <td>1</td>\n",
       "      <td>0</td>\n",
       "      <td>0</td>\n",
       "      <td>...</td>\n",
       "      <td>1891</td>\n",
       "      <td>28</td>\n",
       "      <td>fuchsia</td>\n",
       "      <td>47</td>\n",
       "      <td>27.900000</td>\n",
       "      <td>2622</td>\n",
       "      <td>False</td>\n",
       "      <td>7.401685</td>\n",
       "      <td>42.931507</td>\n",
       "      <td>572.000000</td>\n",
       "    </tr>\n",
       "  </tbody>\n",
       "</table>\n",
       "<p>98953 rows × 31 columns</p>\n",
       "</div>"
      ],
      "text/plain": [
       "               user_state_Baden-Wuerttemberg  user_state_Bavaria  \\\n",
       "order_item_id                                                      \n",
       "1                                          0                   0   \n",
       "2                                          0                   0   \n",
       "3                                          1                   0   \n",
       "4                                          1                   0   \n",
       "5                                          1                   0   \n",
       "...                                      ...                 ...   \n",
       "99995                                      1                   0   \n",
       "99996                                      0                   0   \n",
       "99997                                      0                   0   \n",
       "99998                                      0                   0   \n",
       "100000                                     0                   0   \n",
       "\n",
       "               user_state_Berlin  user_state_Brandenburg  user_state_Bremen  \\\n",
       "order_item_id                                                                 \n",
       "1                              0                       0                  0   \n",
       "2                              0                       0                  0   \n",
       "3                              0                       0                  0   \n",
       "4                              0                       0                  0   \n",
       "5                              0                       0                  0   \n",
       "...                          ...                     ...                ...   \n",
       "99995                          0                       0                  0   \n",
       "99996                          0                       0                  0   \n",
       "99997                          0                       0                  0   \n",
       "99998                          0                       0                  0   \n",
       "100000                         0                       0                  0   \n",
       "\n",
       "               user_state_Hamburg  user_state_Hesse  user_state_Lower Saxony  \\\n",
       "order_item_id                                                                  \n",
       "1                               0                 0                        0   \n",
       "2                               0                 0                        0   \n",
       "3                               0                 0                        0   \n",
       "4                               0                 0                        0   \n",
       "5                               0                 0                        0   \n",
       "...                           ...               ...                      ...   \n",
       "99995                           0                 0                        0   \n",
       "99996                           0                 0                        0   \n",
       "99997                           0                 0                        0   \n",
       "99998                           1                 0                        0   \n",
       "100000                          0                 0                        1   \n",
       "\n",
       "               user_state_Mecklenburg-Western Pomerania  \\\n",
       "order_item_id                                             \n",
       "1                                                     0   \n",
       "2                                                     0   \n",
       "3                                                     0   \n",
       "4                                                     0   \n",
       "5                                                     0   \n",
       "...                                                 ...   \n",
       "99995                                                 0   \n",
       "99996                                                 0   \n",
       "99997                                                 0   \n",
       "99998                                                 0   \n",
       "100000                                                0   \n",
       "\n",
       "               user_state_North Rhine-Westphalia  ...  item_id  item_size  \\\n",
       "order_item_id                                     ...                       \n",
       "1                                              0  ...      643         38   \n",
       "2                                              0  ...      337        152   \n",
       "3                                              0  ...      270        xxl   \n",
       "4                                              0  ...      142        xxl   \n",
       "5                                              0  ...      561        xxl   \n",
       "...                                          ...  ...      ...        ...   \n",
       "99995                                          0  ...     1600         xl   \n",
       "99996                                          0  ...      156         20   \n",
       "99997                                          0  ...      156         20   \n",
       "99998                                          0  ...     1832        xxl   \n",
       "100000                                         0  ...     1891         28   \n",
       "\n",
       "               item_color  brand_id  item_price  user_id  return  \\\n",
       "order_item_id                                                      \n",
       "1                    navy        30   49.900000    30822   False   \n",
       "2                    grey        30   19.950000    30822   False   \n",
       "3                    grey        49   79.900000    30823    True   \n",
       "4                    grey        49   99.900000    30823   False   \n",
       "5                    grey         3   14.900000    30823    True   \n",
       "...                   ...       ...         ...      ...     ...   \n",
       "99995               green        75   65.064695     9580   False   \n",
       "99996                blue        34   29.900000      713   False   \n",
       "99997               brown        34   29.900000      713   False   \n",
       "99998               black        37   26.900000    47794   False   \n",
       "100000            fuchsia        47   27.900000     2622   False   \n",
       "\n",
       "               delivery_range        age  reg_to_order  \n",
       "order_item_id                                           \n",
       "1                    5.000000  47.213699    343.208941  \n",
       "2                    7.401685  47.213699    343.208941  \n",
       "3                    5.000000  46.200000    465.000000  \n",
       "4                    5.000000  46.200000    465.000000  \n",
       "5                    5.000000  46.200000    465.000000  \n",
       "...                       ...        ...           ...  \n",
       "99995                2.000000  58.424658    572.000000  \n",
       "99996                1.000000  57.517808    572.000000  \n",
       "99997                1.000000  57.517808    572.000000  \n",
       "99998                7.401685  51.497015      1.000000  \n",
       "100000               7.401685  42.931507    572.000000  \n",
       "\n",
       "[98953 rows x 31 columns]"
      ]
     },
     "execution_count": 393,
     "metadata": {},
     "output_type": "execute_result"
    }
   ],
   "source": [
    "data_p = pd.get_dummies(data[['user_state','user_title']])\n",
    "data_p = pd.concat([data_p,data],axis = 1)\n",
    "data_p.drop(['user_state','user_title'],axis = 1,inplace = True)\n",
    "data_p"
   ]
  },
  {
   "cell_type": "markdown",
   "metadata": {},
   "source": [
    "But for Other Categorical Data, we replace them with the rate of returning them. we should fit this on Training Set and Transform it to Test set avoiding <b><i> Data Leakage </i></b>"
   ]
  },
  {
   "cell_type": "code",
   "execution_count": 412,
   "metadata": {},
   "outputs": [],
   "source": [
    "X = data_p #for using train_test split we should devide y, we dont drop \"return\" in X to calculate return rate in X_train\n",
    "y = data['return']"
   ]
  },
  {
   "cell_type": "code",
   "execution_count": 501,
   "metadata": {},
   "outputs": [],
   "source": [
    "from sklearn.model_selection import train_test_split\n",
    "X_train,X_test,y_train,y_test = train_test_split(X,y,random_state = 42,test_size = 0.2)"
   ]
  },
  {
   "cell_type": "code",
   "execution_count": 502,
   "metadata": {},
   "outputs": [
    {
     "name": "stderr",
     "output_type": "stream",
     "text": [
      "<ipython-input-502-38fa3ac66d7f>:4: SettingWithCopyWarning: \n",
      "A value is trying to be set on a copy of a slice from a DataFrame.\n",
      "Try using .loc[row_indexer,col_indexer] = value instead\n",
      "\n",
      "See the caveats in the documentation: https://pandas.pydata.org/pandas-docs/stable/user_guide/indexing.html#returning-a-view-versus-a-copy\n",
      "  X_train['{}_return_rate'.format(i)] = X_train.groupby(i)['return'].transform('mean') #rate instead of every categorical\n"
     ]
    }
   ],
   "source": [
    "cat_data = ['item_id','brand_id','item_color','item_size','user_id']\n",
    "a = {}\n",
    "for i in cat_data:\n",
    "    X_train['{}_return_rate'.format(i)] = X_train.groupby(i)['return'].transform('mean') #rate instead of every categorical\n",
    "    a['{}_return_rate'.format(i)] = dict(X_train.groupby(i)['return'].mean()) #a dictionary for mapping to X_test"
   ]
  },
  {
   "cell_type": "code",
   "execution_count": 503,
   "metadata": {},
   "outputs": [
    {
     "name": "stderr",
     "output_type": "stream",
     "text": [
      "<ipython-input-503-e6a6dd39bda1>:2: SettingWithCopyWarning: \n",
      "A value is trying to be set on a copy of a slice from a DataFrame.\n",
      "Try using .loc[row_indexer,col_indexer] = value instead\n",
      "\n",
      "See the caveats in the documentation: https://pandas.pydata.org/pandas-docs/stable/user_guide/indexing.html#returning-a-view-versus-a-copy\n",
      "  X_test['{}_return_rate'.format(i)] = X_test[i].map(a['{}_return_rate'.format(i)]) #mapping to X_test\n"
     ]
    }
   ],
   "source": [
    "for i in cat_data:\n",
    "    X_test['{}_return_rate'.format(i)] = X_test[i].map(a['{}_return_rate'.format(i)]) #mapping to X_test"
   ]
  },
  {
   "cell_type": "code",
   "execution_count": 504,
   "metadata": {},
   "outputs": [
    {
     "name": "stderr",
     "output_type": "stream",
     "text": [
      "C:\\Users\\admin\\anaconda3\\lib\\site-packages\\pandas\\core\\frame.py:3990: SettingWithCopyWarning: \n",
      "A value is trying to be set on a copy of a slice from a DataFrame\n",
      "\n",
      "See the caveats in the documentation: https://pandas.pydata.org/pandas-docs/stable/user_guide/indexing.html#returning-a-view-versus-a-copy\n",
      "  return super().drop(\n"
     ]
    }
   ],
   "source": [
    "X_train.drop(['item_id','brand_id','item_color','item_size','user_id','return'], axis = 1, inplace = True)\n",
    "X_test.drop(['item_id','brand_id','item_color','item_size','user_id','return'], axis = 1, inplace = True)\n",
    "#removing not needed fetures including return in X"
   ]
  },
  {
   "cell_type": "markdown",
   "metadata": {},
   "source": [
    "Here we may have null values in test set, so lets impute them:"
   ]
  },
  {
   "cell_type": "code",
   "execution_count": 505,
   "metadata": {},
   "outputs": [
    {
     "data": {
      "text/plain": [
       "user_state_Baden-Wuerttemberg                  0\n",
       "user_state_Bavaria                             0\n",
       "user_state_Berlin                              0\n",
       "user_state_Brandenburg                         0\n",
       "user_state_Bremen                              0\n",
       "user_state_Hamburg                             0\n",
       "user_state_Hesse                               0\n",
       "user_state_Lower Saxony                        0\n",
       "user_state_Mecklenburg-Western Pomerania       0\n",
       "user_state_North Rhine-Westphalia              0\n",
       "user_state_Rhineland-Palatinate                0\n",
       "user_state_Saarland                            0\n",
       "user_state_Saxony                              0\n",
       "user_state_Saxony-Anhalt                       0\n",
       "user_state_Schleswig-Holstein                  0\n",
       "user_state_Thuringia                           0\n",
       "user_title_Company                             0\n",
       "user_title_Family                              0\n",
       "user_title_Mr                                  0\n",
       "user_title_Mrs                                 0\n",
       "user_title_not reported                        0\n",
       "item_price                                     0\n",
       "delivery_range                                 0\n",
       "age                                            0\n",
       "reg_to_order                                   0\n",
       "item_id_return_rate                           43\n",
       "brand_id_return_rate                           2\n",
       "item_color_return_rate                         2\n",
       "item_size_return_rate                          2\n",
       "user_id_return_rate                         1061\n",
       "dtype: int64"
      ]
     },
     "execution_count": 505,
     "metadata": {},
     "output_type": "execute_result"
    }
   ],
   "source": [
    "X_test.isnull().sum()"
   ]
  },
  {
   "cell_type": "code",
   "execution_count": 506,
   "metadata": {},
   "outputs": [
    {
     "name": "stderr",
     "output_type": "stream",
     "text": [
      "<ipython-input-506-3657e7e5333c>:2: SettingWithCopyWarning: \n",
      "A value is trying to be set on a copy of a slice from a DataFrame.\n",
      "Try using .loc[row_indexer,col_indexer] = value instead\n",
      "\n",
      "See the caveats in the documentation: https://pandas.pydata.org/pandas-docs/stable/user_guide/indexing.html#returning-a-view-versus-a-copy\n",
      "  X_test[i] = X_test[i].fillna(X_test[i].mean())\n"
     ]
    }
   ],
   "source": [
    "for i in ['item_id_return_rate','brand_id_return_rate','item_color_return_rate','item_size_return_rate','user_id_return_rate']:\n",
    "    X_test[i] = X_test[i].fillna(X_test[i].mean())"
   ]
  },
  {
   "cell_type": "markdown",
   "metadata": {},
   "source": [
    "## 3.6. Feature Scaling "
   ]
  },
  {
   "cell_type": "markdown",
   "metadata": {},
   "source": [
    "Feature Scaling is important for feature selection and extraction, and should be fit in training set and transform to test set. Here we chose <i> Normalization </i> for scaling"
   ]
  },
  {
   "cell_type": "code",
   "execution_count": 507,
   "metadata": {},
   "outputs": [],
   "source": [
    "from sklearn.preprocessing import MinMaxScaler\n",
    "scaler = MinMaxScaler()\n",
    "X_train_n=pd.DataFrame(scaler.fit_transform(X_train),columns = list(X_train.columns))\n",
    "X_test_n = pd.DataFrame(scaler.transform(X_test), columns = list(X_test.columns))"
   ]
  },
  {
   "cell_type": "markdown",
   "metadata": {},
   "source": [
    "## 3.7. Feature Engeeniring "
   ]
  },
  {
   "cell_type": "markdown",
   "metadata": {},
   "source": [
    "From here on, we have 2 different ways to continue training the model. we can use feature selection or feature exraxction (Dimensionality Reduction.) because of that, I call first way as A (Feature Selection) and second way as B (Feature Extraction) and at last we see wich one gives us better accuracy\n",
    "\n",
    "<b> Note: </b> I know that feature Engeenierng refers to broad operations like feature generation and feature scaling I already done, but we use here this term for simplicity"
   ]
  },
  {
   "cell_type": "markdown",
   "metadata": {},
   "source": [
    "### 3.7.A. Fearute Selection "
   ]
  },
  {
   "cell_type": "markdown",
   "metadata": {},
   "source": [
    "There are many ways for feature selection, I used chi2 here"
   ]
  },
  {
   "cell_type": "code",
   "execution_count": 508,
   "metadata": {},
   "outputs": [
    {
     "name": "stdout",
     "output_type": "stream",
     "text": [
      "                                Specs        Score\n",
      "29                user_id_return_rate  5991.297886\n",
      "25                item_id_return_rate   469.210053\n",
      "21                         item_price   181.745625\n",
      "22                     delivery_range   144.223857\n",
      "26               brand_id_return_rate    48.513404\n",
      "18                      user_title_Mr    18.447264\n",
      "23                                age    14.450865\n",
      "16                 user_title_Company    12.808569\n",
      "9   user_state_North Rhine-Westphalia    10.844379\n",
      "24                       reg_to_order     9.207433\n"
     ]
    }
   ],
   "source": [
    "from sklearn.feature_selection import SelectKBest\n",
    "from sklearn.feature_selection import chi2\n",
    "\n",
    "bestfeatures = SelectKBest(score_func=chi2, k=10)\n",
    "fit = bestfeatures.fit(X_train_n,y_train)\n",
    "dfscores = pd.DataFrame(fit.scores_)\n",
    "dfcolumns = pd.DataFrame(X_train_n.columns)\n",
    "#concat two dataframes for better visualization \n",
    "featureScores = pd.concat([dfcolumns,dfscores],axis=1)\n",
    "featureScores.columns = ['Specs','Score']  #naming the dataframe columns\n",
    "print(featureScores.nlargest(10,'Score'))  #print 10 best features"
   ]
  },
  {
   "cell_type": "markdown",
   "metadata": {},
   "source": [
    "I guess top 5 result are enough for our prediction, so we select them"
   ]
  },
  {
   "cell_type": "code",
   "execution_count": 509,
   "metadata": {},
   "outputs": [],
   "source": [
    "X_train_chi2 = X_train_n[(featureScores.nlargest(5,'Score').iloc[:,0])]\n",
    "X_test_chi2 = X_test_n[(featureScores.nlargest(5,'Score').iloc[:,0])]"
   ]
  },
  {
   "cell_type": "markdown",
   "metadata": {},
   "source": [
    "# 4. Model Selection"
   ]
  },
  {
   "cell_type": "markdown",
   "metadata": {},
   "source": [
    "First we import defferent models"
   ]
  },
  {
   "cell_type": "code",
   "execution_count": 510,
   "metadata": {},
   "outputs": [],
   "source": [
    "from sklearn.model_selection import cross_val_score\n",
    "\n",
    "from sklearn.svm import SVC\n",
    "from sklearn.naive_bayes import GaussianNB\n",
    "from sklearn.ensemble import RandomForestClassifier\n",
    "from sklearn.ensemble import GradientBoostingClassifier\n",
    "from sklearn.neighbors import KNeighborsClassifier\n",
    "from sklearn.linear_model import LogisticRegression"
   ]
  },
  {
   "cell_type": "markdown",
   "metadata": {},
   "source": [
    "Here we have to split the training set again, to train and validation set"
   ]
  },
  {
   "cell_type": "code",
   "execution_count": 511,
   "metadata": {},
   "outputs": [],
   "source": [
    "X_train_chi2,X_val_chi2,y_train_chi2,y_val_chi2 = train_test_split(X_train_chi2,y_train, random_state = 0) \n",
    "#test_size parameter is 0.25 by defualt which means validation set is 0.2% of the whole data"
   ]
  },
  {
   "cell_type": "markdown",
   "metadata": {},
   "source": [
    "Now we test every model using cross validation to find the best performance, accuracy as metric"
   ]
  },
  {
   "cell_type": "code",
   "execution_count": 476,
   "metadata": {},
   "outputs": [
    {
     "name": "stdout",
     "output_type": "stream",
     "text": [
      "SVM : Mean accuracy: 0.784 and Standard Deviation: 0.003\n",
      "NaiveBayes : Mean accuracy: 0.774 and Standard Deviation: 0.004\n",
      "RandomForest : Mean accuracy: 0.753 and Standard Deviation: 0.001\n",
      "GB : Mean accuracy: 0.787 and Standard Deviation: 0.001\n",
      "KNN : Mean accuracy: 0.758 and Standard Deviation: 0.002\n",
      "LReg : Mean accuracy: 0.780 and Standard Deviation: 0.002\n"
     ]
    }
   ],
   "source": [
    "models = {'SVM': SVC(random_state = 42), 'NaiveBayes': GaussianNB(), 'RandomForest':RandomForestClassifier(random_state = 42),\n",
    "         'GB': GradientBoostingClassifier(random_state = 42),'KNN':KNeighborsClassifier(),\n",
    "          'LReg': LogisticRegression(random_state = 42)}\n",
    "\n",
    "for name, model, in models.items():\n",
    "    scores = cross_val_score(model,X_train_chi2,y_train_chi2,scoring = 'accuracy', cv=3, n_jobs= -1)\n",
    "    print(name, ': Mean accuracy: {:.3f} and Standard Deviation: {:.3f}'.format(np.mean(scores), np.std(scores)))"
   ]
  },
  {
   "cell_type": "markdown",
   "metadata": {},
   "source": [
    "So GradiantBoost has the best Accuracy, then we tune the hyperparameters of algorithemes"
   ]
  },
  {
   "cell_type": "markdown",
   "metadata": {},
   "source": [
    "# 5. Parameter Tuning"
   ]
  },
  {
   "cell_type": "markdown",
   "metadata": {},
   "source": [
    "To save time, we use RandomizedSearchCV instead of GridSearch"
   ]
  },
  {
   "cell_type": "code",
   "execution_count": 495,
   "metadata": {},
   "outputs": [
    {
     "name": "stdout",
     "output_type": "stream",
     "text": [
      "gb best values based on accuracy: {'n_estimators': 200, 'min_samples_split': 0.5, 'min_samples_leaf': 0.1, 'max_features': 2, 'max_depth': 3.0, 'learning_rate': 0.1}\n",
      "gb best score based on accuracy: 0.784649588196655\n"
     ]
    }
   ],
   "source": [
    "from sklearn.model_selection import RandomizedSearchCV\n",
    "rand_val_gb = {'learning_rate' : [1, 0.5, 0.25, 0.1, 0.05, 0.01],\n",
    "               'max_depth' : np.linspace(1, 32, 32, endpoint=True),\n",
    "                   'min_samples_split' : np.linspace(0.1, 1.0, 10, endpoint=True),\n",
    "                   'min_samples_leaf' : np.linspace(0.1, 0.5, 5, endpoint=True),\n",
    "                   'max_features' : list(range(1,X_val.shape[1])),\n",
    "                   'n_estimators' : [1, 2, 4, 8, 16, 32, 64, 100, 200]}\n",
    "\n",
    "randm_src = RandomizedSearchCV(estimator=GradientBoostingClassifier(random_state = 42),\n",
    "                               param_distributions = rand_val_gb, cv = 3, n_iter = 32, n_jobs=-1)\n",
    "randm_src.fit(X_val_chi2,y_val_chi2)\n",
    "\n",
    "print('gb best values based on accuracy:',randm_src.best_params_ )\n",
    "print('gb best score based on accuracy:',randm_src.best_score_ )"
   ]
  },
  {
   "cell_type": "markdown",
   "metadata": {},
   "source": [
    "We got the best parameters here and we go for final test"
   ]
  },
  {
   "cell_type": "markdown",
   "metadata": {},
   "source": [
    "# Model Evaluation"
   ]
  },
  {
   "cell_type": "code",
   "execution_count": 522,
   "metadata": {},
   "outputs": [
    {
     "name": "stdout",
     "output_type": "stream",
     "text": [
      "0.7848949823988143\n",
      "0.675711181850336\n"
     ]
    }
   ],
   "source": [
    "clf = GradientBoostingClassifier(random_state = 42,n_estimators = 200, min_samples_split= 0.5,min_samples_leaf= 0.1,\n",
    "                                 max_features= 2, max_depth= 3.0, learning_rate= 0.1).fit(X_train_chi2,y_train_chi2)\n",
    "clf.fit(X_train_chi2,y_train_chi2)\n",
    "print(clf.score(X_train_chi2,y_train_chi2))\n",
    "print(clf.score(X_test_chi2,y_test))"
   ]
  },
  {
   "cell_type": "markdown",
   "metadata": {},
   "source": [
    "so here we see the model is still overfit on unseen data. <i> (I dont know how to fix it :( ) </i> and its accuracy is 0.67"
   ]
  },
  {
   "cell_type": "code",
   "execution_count": 498,
   "metadata": {
    "scrolled": true
   },
   "outputs": [
    {
     "name": "stdout",
     "output_type": "stream",
     "text": [
      "confusion matrix of gb classifier: \n",
      " [[7357 3383]\n",
      " [3035 6016]]\n"
     ]
    }
   ],
   "source": [
    "from sklearn.metrics import confusion_matrix\n",
    "gb_prediction = clf.predict(X_test_chi2)\n",
    "confusion = confusion_matrix(y_test,gb_prediction)\n",
    "print('confusion matrix of gb classifier: \\n',confusion)"
   ]
  },
  {
   "cell_type": "markdown",
   "metadata": {},
   "source": [
    "Confusion matrix tells us we have more FN than FP"
   ]
  },
  {
   "cell_type": "code",
   "execution_count": 499,
   "metadata": {},
   "outputs": [
    {
     "name": "stdout",
     "output_type": "stream",
     "text": [
      "              precision    recall  f1-score   support\n",
      "\n",
      "       False       0.71      0.69      0.70     10740\n",
      "        True       0.64      0.66      0.65      9051\n",
      "\n",
      "    accuracy                           0.68     19791\n",
      "   macro avg       0.67      0.67      0.67     19791\n",
      "weighted avg       0.68      0.68      0.68     19791\n",
      "\n"
     ]
    }
   ],
   "source": [
    "from sklearn.metrics import classification_report\n",
    "print(classification_report(y_test,gb_prediction))"
   ]
  },
  {
   "cell_type": "markdown",
   "metadata": {},
   "source": [
    "And here is classification report!"
   ]
  },
  {
   "cell_type": "markdown",
   "metadata": {},
   "source": [
    "### 3.7.B. Feature Extraction"
   ]
  },
  {
   "cell_type": "markdown",
   "metadata": {},
   "source": [
    "In this section, instead of feature selection we try feature extraction and use PCA for dimensionality reduction. through efforts i find out n_components = 10 has better performance and we use that here."
   ]
  },
  {
   "cell_type": "code",
   "execution_count": 512,
   "metadata": {},
   "outputs": [],
   "source": [
    "from sklearn.decomposition import PCA\n",
    "pca = PCA(n_components=10)"
   ]
  },
  {
   "cell_type": "code",
   "execution_count": 513,
   "metadata": {},
   "outputs": [],
   "source": [
    "X_train_pca = pd.DataFrame(pca.fit_transform(X_train_n),columns = ['PC1','PC2','PC3','PC4','PC5','PC6','PC7','PC8','PC9','PC10'])\n",
    "X_test_pca = pd.DataFrame(pca.transform(X_test_n),columns = ['PC1','PC2','PC3','PC4','PC5','PC6','PC7','PC8','PC9','PC10'])"
   ]
  },
  {
   "cell_type": "markdown",
   "metadata": {},
   "source": [
    "# 4. Model Selection "
   ]
  },
  {
   "cell_type": "markdown",
   "metadata": {},
   "source": [
    "Do same as above"
   ]
  },
  {
   "cell_type": "code",
   "execution_count": 514,
   "metadata": {},
   "outputs": [],
   "source": [
    "X_train_pca,X_val_pca,y_train_pca,y_val_pca = train_test_split(X_train_pca,y_train, random_state = 0) "
   ]
  },
  {
   "cell_type": "code",
   "execution_count": 515,
   "metadata": {},
   "outputs": [
    {
     "name": "stdout",
     "output_type": "stream",
     "text": [
      "SVM : Mean accuracy: 0.771 and Standard Deviation: 0.002\n",
      "NaiveBayes : Mean accuracy: 0.761 and Standard Deviation: 0.002\n",
      "RandomForest : Mean accuracy: 0.748 and Standard Deviation: 0.001\n",
      "GB : Mean accuracy: 0.769 and Standard Deviation: 0.003\n",
      "KNN : Mean accuracy: 0.735 and Standard Deviation: 0.002\n",
      "LReg : Mean accuracy: 0.769 and Standard Deviation: 0.002\n"
     ]
    }
   ],
   "source": [
    "models = {'SVM': SVC(random_state = 42), 'NaiveBayes': GaussianNB(), 'RandomForest':RandomForestClassifier(random_state = 42),\n",
    "         'GB': GradientBoostingClassifier(random_state = 42),'KNN':KNeighborsClassifier(),\n",
    "          'LReg': LogisticRegression(random_state = 42)}\n",
    "\n",
    "for name, model, in models.items():\n",
    "    scores = cross_val_score(model,X_train_pca,y_train_pca,scoring = 'accuracy', cv=3, n_jobs= -1)\n",
    "    print(name, ': Mean accuracy: {:.3f} and Standard Deviation: {:.3f}'.format(np.mean(scores), np.std(scores)))"
   ]
  },
  {
   "cell_type": "markdown",
   "metadata": {},
   "source": [
    "# 5. Parameter tuning"
   ]
  },
  {
   "cell_type": "code",
   "execution_count": 520,
   "metadata": {},
   "outputs": [
    {
     "name": "stdout",
     "output_type": "stream",
     "text": [
      "svm best values based on accuracy: {'kernel': 'rbf', 'gamma': 0.1, 'degree': 2, 'C': 10}\n",
      "svm best score based on accuracy: 0.7707038552877571\n"
     ]
    }
   ],
   "source": [
    "from sklearn.model_selection import RandomizedSearchCV\n",
    "\n",
    "rand_val_svm = {'gamma':[0.1,1,10,100],'C': [0.01,0.1,1,10],'kernel': ['rbf','linear','poly'],'degree' :[0, 1, 2, 3, 4, 5, 6]}\n",
    "\n",
    "randm_src = RandomizedSearchCV(estimator=SVC(random_state = 42),\n",
    "                               param_distributions = rand_val_svm, cv = 3, n_iter = 3, n_jobs=-1)\n",
    "randm_src.fit(X_val_pca,y_val_pca)\n",
    "\n",
    "print('svm best values based on accuracy:',randm_src.best_params_ )\n",
    "print('svm best score based on accuracy:',randm_src.best_score_ )"
   ]
  },
  {
   "cell_type": "markdown",
   "metadata": {},
   "source": [
    "we got best hyperparameters for svm and we go for final test."
   ]
  },
  {
   "cell_type": "markdown",
   "metadata": {},
   "source": [
    "# 6. Model evaluation"
   ]
  },
  {
   "cell_type": "code",
   "execution_count": 523,
   "metadata": {},
   "outputs": [
    {
     "name": "stdout",
     "output_type": "stream",
     "text": [
      "0.7700055582691887\n",
      "0.6556010307715628\n"
     ]
    }
   ],
   "source": [
    "svm = SVC(kernel = \"rbf\", gamma= 0.1, degree = 2, C= 10,random_state = 42)\n",
    "\n",
    "svm.fit(X_train_pca,y_train_pca)\n",
    "print(svm.score(X_train_pca,y_train_pca))\n",
    "print(svm.score(X_test_pca,y_test))"
   ]
  },
  {
   "cell_type": "code",
   "execution_count": 526,
   "metadata": {},
   "outputs": [
    {
     "name": "stdout",
     "output_type": "stream",
     "text": [
      "confusion matrix of svm classifier: \n",
      " [[6844 3896]\n",
      " [2920 6131]]\n"
     ]
    }
   ],
   "source": [
    "svm_prediction = svm.predict(X_test_pca)\n",
    "confusion = confusion_matrix(y_test,svm_prediction)\n",
    "print('confusion matrix of svm classifier: \\n',confusion)"
   ]
  },
  {
   "cell_type": "markdown",
   "metadata": {},
   "source": [
    "Its obvious that we have less FP in this way but more FN (in comparison with feature selection)"
   ]
  },
  {
   "cell_type": "code",
   "execution_count": 527,
   "metadata": {},
   "outputs": [
    {
     "name": "stdout",
     "output_type": "stream",
     "text": [
      "              precision    recall  f1-score   support\n",
      "\n",
      "       False       0.70      0.64      0.67     10740\n",
      "        True       0.61      0.68      0.64      9051\n",
      "\n",
      "    accuracy                           0.66     19791\n",
      "   macro avg       0.66      0.66      0.66     19791\n",
      "weighted avg       0.66      0.66      0.66     19791\n",
      "\n"
     ]
    }
   ],
   "source": [
    "print(classification_report(y_test,svm_prediction))"
   ]
  },
  {
   "cell_type": "markdown",
   "metadata": {},
   "source": [
    "<b> Final Note: </b> As you see I tried different ways and best accuray I got is 66%. But another time, I trained the model and didnt prevent <b> Data Leakage </b> in converting <i> categorical variables </i> to <i> return rate </i> and there I got accuracy around 0.78% ! so I will be glad if you can inform me about what i can do to improve model metrics! Tnx"
   ]
  }
 ],
 "metadata": {
  "kernelspec": {
   "display_name": "Python 3 (ipykernel)",
   "language": "python",
   "name": "python3"
  },
  "language_info": {
   "codemirror_mode": {
    "name": "ipython",
    "version": 3
   },
   "file_extension": ".py",
   "mimetype": "text/x-python",
   "name": "python",
   "nbconvert_exporter": "python",
   "pygments_lexer": "ipython3",
   "version": "3.9.12"
  }
 },
 "nbformat": 4,
 "nbformat_minor": 4
}
